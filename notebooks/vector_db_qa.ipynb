{
 "cells": [
  {
   "attachments": {},
   "cell_type": "markdown",
   "id": "07c1e3b9",
   "metadata": {},
   "source": [
    "# QA Chatbot Dev\n",
    "\n",
    "Notebook which demonstrates and tests the functionality of the chatbot and vector database"
   ]
  },
  {
   "cell_type": "code",
   "execution_count": 1,
   "id": "0f42f7b7",
   "metadata": {},
   "outputs": [],
   "source": [
    "%load_ext autoreload\n",
    "%autoreload\n",
    "import os\n",
    "os.chdir(\"/home/ada/Projects/GPTg\")"
   ]
  },
  {
   "cell_type": "code",
   "execution_count": 2,
   "id": "82525493",
   "metadata": {},
   "outputs": [],
   "source": [
    "from langchain.embeddings.openai import OpenAIEmbeddings\n",
    "from langchain.vectorstores import FAISS\n",
    "from langchain.text_splitter import CharacterTextSplitter\n",
    "from langchain.llms import OpenAI\n",
    "from langchain.chains import RetrievalQA\n",
    "from langchain.document_loaders import DirectoryLoader\n"
   ]
  },
  {
   "cell_type": "code",
   "execution_count": 9,
   "id": "5c7049db",
   "metadata": {},
   "outputs": [
    {
     "name": "stderr",
     "output_type": "stream",
     "text": [
      "Created a chunk of size 1383, which is longer than the specified 1000\n",
      "Created a chunk of size 1042, which is longer than the specified 1000\n",
      "Created a chunk of size 1131, which is longer than the specified 1000\n"
     ]
    }
   ],
   "source": [
    "loader = DirectoryLoader(\"data/sources/html/\")\n",
    "documents = loader.load()\n",
    "text_splitter = CharacterTextSplitter(chunk_size=1000, chunk_overlap=200)\n",
    "texts = text_splitter.split_documents(documents)\n",
    "\n",
    "embeddings = OpenAIEmbeddings()\n",
    "db = FAISS.from_documents(texts, embeddings)"
   ]
  },
  {
   "cell_type": "code",
   "execution_count": 16,
   "id": "3018f865",
   "metadata": {},
   "outputs": [],
   "source": [
    "qa = RetrievalQA.from_chain_type(llm=OpenAI(), chain_type=\"stuff\", retriever=db.as_retriever(), return_source_documents=True)"
   ]
  },
  {
   "cell_type": "code",
   "execution_count": 21,
   "id": "032a47f8",
   "metadata": {},
   "outputs": [
    {
     "name": "stdout",
     "output_type": "stream",
     "text": [
      "Question:   Is it safe to do DIY HRT?  Is ordering the medications illegal?\n",
      "Response:    DIY HRT is a preferable option to not being on HRT for many, however, it is important to research the laws in your country to ensure that ordering the medications is not illegal. Depending on where you order from, you may need to find out how to buy Bitcoin/other cryptocurrencies or find a way to send an international bank transfer, Moneygram, etc. It is also important to note that domestic mail does not pass through customs, so ordering from a domestic source (usually homebrew sources) will carry essentially zero risk of seizure.\n",
      "Source Documents:   [Document(page_content=\"Regardless, if you are willing to attempt DIY, it is a preferable option to not being on T for many.\\n\\nLegal access to T:\\n\\nErin's Informed Consent Map\\nwith particular focus on clinics in the USA.\\nMany new mobile apps and telehealth services in the USA also offer informed consent access to HRT, see this short document for a full list for ALL current app/telehealth HRT services in the USA:\\n\\ndiyhrt.wiki/apps.\\n\\ngoodrx.com for\\nfree\\ncoupons to use at participating pharmacies. There are no strings attached to this service!\\n\\nCost Plus Drugs is also a good source\\nfor\\naffordable medications if you have a doctor's prescription.\\n\\nDIY:\", metadata={'source': 'data/sources/html/DIY HRT Directory _ Transmasc Guide.html'}), Document(page_content='Dr Johnathan Hayes (click here) is an Endocrinologist in St. Leonards that offers\\nInformed consent.\\n\\nDIY:\\n\\nDIY HRT refers to any HRT that is obtained without a prescription.\\n\\nIdeally, you would be on prescribed HRT through legit means. However, you may not have the privilege or\\nmeans to access prescribed HRT, so this guide may be of use for you.\\n\\nIf you are willing to attempt DIY, it is a preferable option to not being on HRT for many.\\n\\nIf you do not want to be on waitlists, have to prove your transness while allowing your body to masculinize,\\nor are unable to get HRT legally, DIY may be preferable. \\nDepending on where you order from, you may need to find out how to buy Bitcoin/other cryptocurrencies or find\\na way to send an international bank transfer, Moneygram, etc.\\n\\nIn some countries, HRT medications are sold over the counter\\nwithout the need for a prescription.', metadata={'source': 'data/sources/html/DIY HRT Directory _ Transfem Guide.html'}), Document(page_content=\"In some countries, HRT medications are sold over the counter\\nwithout the need for a prescription.\\n\\nFor the majority of individuals, DIY HRT commonly entails buying legitimate pharmaceutical-grade medications\\nfrom foreign companies located in countries that permit the sale of medications internationally.\\n\\nHomebrewed vs Pharmaceutical Grade?\\n\\nWhat forms of estradiol are there?\\n\\nThere are many forms of estradiol, each with their drawbacks, pros, and\\nlevels of ease in terms of obtaining them.\\n\\nThis section does not cover dosing (see the Dosing section for more information). Given prices\\nare\\nrough estimates for DIY sourced HRT.\\n\\nPrices below are in $USD. Shipping usually goes between $10-35 USD depending on the source. It's best to order\\nat\\nleast several months worth at once to offset the shipping costs.\\n\\nPills - $20-$40 per month ($240-480 per year)\\n\\nTransdermal - $30-$45 per month ($360-540 per year)(patches)\", metadata={'source': 'data/sources/html/DIY HRT Directory _ Transfem Guide.html'}), Document(page_content=\"However, ordering from a domestic source (usually homebrew sources) will carry essentially zero risk of\\nseizure,\\nbecause domestic mail does not pass through customs.\\n\\n\\nSome countries, especially in the Middle East like the UAE, do classify HRT medication as a controlled substance.\\nResearch the laws in your country if you are not certain.\\nWhat do I do if my package is seized?\\nIn the unlikely event your package is held by customs and you are contacted by phone or email, do not\\ntell customs what is inside the package.\\nIf they contact you (usually you are only contacted if you provide your contact information to an overseas\\npharmacy source), know that you cannot get in legal trouble for ordering HRT. Contact the seller if possible\\nto resolve the issue.\\nIt is bad for people who want to order from a specific seller, and bad for that seller's business if you\\ntell customs that you're ordering HRT without a prescription. Don't do that.\\n\\nTraveling with HRT.\", metadata={'source': 'data/sources/html/DIY HRT Directory _ Transfem Guide.html'})]\n"
     ]
    }
   ],
   "source": [
    "query = \"Is it safe to do DIY HRT?  Is ordering the medications illegal?\"\n",
    "result = qa({\"query\": query})\n",
    "print(\"Question:  \", query)\n",
    "print(\"Response:  \",result[\"result\"])\n",
    "print(\"Source Documents:  \",result['source_documents'])"
   ]
  },
  {
   "cell_type": "code",
   "execution_count": null,
   "id": "a22878cc",
   "metadata": {},
   "outputs": [],
   "source": [
    "from src.db.vector_db import KnowledgeDatabase\n",
    "\n",
    "vector_db = KnowledgeDatabase()\n",
    "vector_db.create_vector_db()"
   ]
  },
  {
   "cell_type": "code",
   "execution_count": 5,
   "id": "aedc6157",
   "metadata": {},
   "outputs": [
    {
     "name": "stdout",
     "output_type": "stream",
     "text": [
      "[(Document(page_content='De Cuypere, G., & Vercruysse, H. (2009). Eligibility and readiness criteria for sex reassignment surgery: Recommendations for revision of the WPATH standards of care. International Journal of Transgenderism, 11(3), 194–205. https://doi.org/10.1080/15532730903383781. de Freitas, L. D., Leda-Rego, G., Bezerra-Filho, S., & Miranda-Scippa, A. (2020). Psychiatric disorders in in- dividuals diagnosed with gender dysphoria: A systemat- ic review. Psychiatry Clinical Neuroscience, 74(2), 99–104. https://doi.org/10.1111/pcn.12947.', metadata={'source': 'data/sources/files/Standards of Care for the Health of Transgender and Gender Diverse People Version 8.pdf'}), 0.2071519), (Document(page_content='WPATH Position Statement. (2018). WPATH position on “Rapid Onset Gender Dysphoria (ROGD).” https://www. w p a t h . o r g / m e d i a / c m s / D o c u m e n t s / P u b l i c % 2 0 Policies/2018/9_Sept/WPATH%20Position%20on%20 Rapid-Onset%20Gender%20Dysphoria_9-4-2018.pdf', metadata={'source': 'data/sources/files/Standards of Care for the Health of Transgender and Gender Diverse People Version 8.pdf'}), 0.23907469), (Document(page_content='National Center for Transgender Equality. Know your rights: Medicare National Center for Transgender Equality. 2015 [cited 2016 Mar 25].\\n\\nWorld Professional Association for Transgender Health (WPATH). WPATH de-psychopathologisation statement. 2010 May [cited 2016 Mar 25].\\n\\nDeutsch MB. Use of the informed consent model in the provision of cross-sex hormone therapy: a survey of the practices of selected clinics. Int J Transgenderism. 2012 May;13(3):140-6.\\n\\nColeman E, Bockting W, Botzer M, Cohen-Kettenis P, DeCuypere G, Feldman J, et al. Standards of Care for the Health of Transsexual, Transgender, and Gender-Nonconforming People, Version 7. Int J Transgenderism. 2012;13(4):165-232.', metadata={'source': 'https://transcare.ucsf.edu/guidelines/mental-health'}), 0.2531386), (Document(page_content='The World Professional Association for Transgender Health (WPATH) publishes the Standards of Care (SOC).[23] The SOC outlines a process for the initiation of cross-sex hormones. Per the SOC, an assessment by an experienced clinician - a primary care provider or mental health professional -- is required for initiation of cross-sex hormones. This assessment establishes the presence of persistent gender dysphoria and the ability to give informed consent. Exploration of risks and benefits of treatment to give informed consent should include not only the medical risks and benefits of treatments, but also possible social risks and benefits (such as the risks to employment, relationships, and housing), and ways to navigate and mitigate these risks. Therapy is not required to initiate a medical transition, but is encouraged to address any concerns that might arise during the process.[23] The SOC are intended to be flexible and taken on a case-by-case basis.[23] Removal of the gatekeeper role from mental health providers allows a more open and therapeutic relationship to be formed with mental health providers.', metadata={'source': 'https://transcare.ucsf.edu/guidelines/mental-health'}), 0.25457412)]\n"
     ]
    }
   ],
   "source": [
    "doc = vector_db.db.similarity_search_with_score(\"WPATH guidelines for gender dysphoria diagnosis\")\n",
    "print(doc)"
   ]
  },
  {
   "cell_type": "code",
   "execution_count": 7,
   "id": "87d4707b",
   "metadata": {},
   "outputs": [
    {
     "name": "stdout",
     "output_type": "stream",
     "text": [
      "Question:   What are the common side effects of Spironolactone?\n",
      "Response:    Common side effects of spironolactone include increased thirst, salt cravings, frequent urination, reduced blood pressure, and difficulty attaining erections.\n",
      "Source Documents:   [Document(page_content='Spironolactone is the most commonly used androgen blocker in the U.S. Spironolactone is a potassium sparing diuretic, which in higher doses also has direct anti-androgen receptor activity as well as a suppressive effect on testosterone synthesis.[6] Doses of 200mg daily in non-transgender women being treated for hair loss have been described as safe, though doses of up to 400mg/day have been reported without negative effect.[7] Hyperkalemia is the most serious risk but is very uncommon when precaution is taken to avoid use in individuals with renal insufficiency, and use with caution and frequent monitoring in those on ACE inhibitor or ARB type medications. Due to its diuretic effect, patients may experience self-limited polyuria, polydipsia, or orthostasis.', metadata={'source': 'https://transcare.ucsf.edu/guidelines/feminizing-hormone-therapy'}), Document(page_content=\"Ideally you should get U&E (urea and electrolytes) tested for (see if you're dehydrated, basically) if you\\nare\\non spiro.\\n\\nIf you are predisposed to developing hyperkalemia (elevated potassium levels), you should also get your potassium levels\\ntested regularly if you take spironolactone, as spiro can cause your body to retain more potassium.\\n\\nFor the vast majority of people though, this is not a relevant concern.\\n\\nCyproterone acetate:\\n\\nExtremely high doses of cyproterone, mostly found above 50mg/day and 100mg/day can cause a myriad of\\ndifferent\\nharsh side effects and risks, mainly prolactinomas and meningiomas (small benign brain tumors).\\n\\nAt dosages relevant to transfeminine people (6.25-12.5mg/day) the risk profile is much different. The same\\nrisks\\nare still present but much lower at smaller doses.\\n\\nCyproterone is also known to slightly increase blood clot risk, although the increase in risk is quite low\\nat\\ndosages used in trans people.\", metadata={'source': 'https://diyhrt.wiki/transfem'}), Document(page_content=\"However, because of the higher levels of estradiol in your blood that other methods usually result in\\n(transdermal, injections, etc.), the unique risks of oral estradiol aren't particularly relevant in\\npractice.\\n\\nSpironolactone:\\n\\nThe main reason I recommend against spironolactone is because spiro is a very weak antiandrogen. There are\\njust\\nbetter options out there.\\n\\nHowever, it's very safe, but common side effects include increased thirst, salt cravings and frequent\\nurination\\ndue to it being a diuretic (makes your body get rid of water faster).\\n\\nSpiro is also known to reduce blood pressure, which can make it hard for some people to attain erections.\\n\\nIdeally you should get U&E (urea and electrolytes) tested for (see if you're dehydrated, basically) if you\\nare\\non spiro.\", metadata={'source': 'https://diyhrt.wiki/transfem'}), Document(page_content='In addition to assessing the positive changes associated with sex steroid hormone therapy, the HCP should regularly assess whether the treat- ment has caused any adverse effects (see Appendix C—Table 2). Examples of adverse signs and symptoms include androgenic acne or bothersome sexual dysfunction (Braun et al., 2021; Kerckhof et al., 2019). GAHT also has the potential to adversely influence several laboratory tests. For example, spironolactone may cause hyperkalemia, although it is an uncommon and transient phe- nomenon (Millington et al., 2019). Testosterone increases the red blood cell count (hematocrit), which may occasionally cause erythrocytosis (Antun et al., 2020) (see Statement 12.17) (Hembree et al., 2017). Both estrogen and tes- tosterone can alter lipid parameters, such as high-density protein lipoprotein (HDL) choles- terol and triglycerides (Maraka et al., 2017). See Appendix C—Tables 3 and 4.\\n\\nS118\\n\\nE. COLEMAN ET AL.', metadata={'source': 'data/sources/files/Standards of Care for the Health of Transgender and Gender Diverse People Version 8.pdf'})]\n"
     ]
    },
    {
     "data": {
      "text/plain": [
       "{'query': 'What are the common side effects of Spironolactone?',\n",
       " 'result': ' Common side effects of spironolactone include increased thirst, salt cravings, frequent urination, reduced blood pressure, and difficulty attaining erections.',\n",
       " 'source_documents': [Document(page_content='Spironolactone is the most commonly used androgen blocker in the U.S. Spironolactone is a potassium sparing diuretic, which in higher doses also has direct anti-androgen receptor activity as well as a suppressive effect on testosterone synthesis.[6] Doses of 200mg daily in non-transgender women being treated for hair loss have been described as safe, though doses of up to 400mg/day have been reported without negative effect.[7] Hyperkalemia is the most serious risk but is very uncommon when precaution is taken to avoid use in individuals with renal insufficiency, and use with caution and frequent monitoring in those on ACE inhibitor or ARB type medications. Due to its diuretic effect, patients may experience self-limited polyuria, polydipsia, or orthostasis.', metadata={'source': 'https://transcare.ucsf.edu/guidelines/feminizing-hormone-therapy'}),\n",
       "  Document(page_content=\"Ideally you should get U&E (urea and electrolytes) tested for (see if you're dehydrated, basically) if you\\nare\\non spiro.\\n\\nIf you are predisposed to developing hyperkalemia (elevated potassium levels), you should also get your potassium levels\\ntested regularly if you take spironolactone, as spiro can cause your body to retain more potassium.\\n\\nFor the vast majority of people though, this is not a relevant concern.\\n\\nCyproterone acetate:\\n\\nExtremely high doses of cyproterone, mostly found above 50mg/day and 100mg/day can cause a myriad of\\ndifferent\\nharsh side effects and risks, mainly prolactinomas and meningiomas (small benign brain tumors).\\n\\nAt dosages relevant to transfeminine people (6.25-12.5mg/day) the risk profile is much different. The same\\nrisks\\nare still present but much lower at smaller doses.\\n\\nCyproterone is also known to slightly increase blood clot risk, although the increase in risk is quite low\\nat\\ndosages used in trans people.\", metadata={'source': 'https://diyhrt.wiki/transfem'}),\n",
       "  Document(page_content=\"However, because of the higher levels of estradiol in your blood that other methods usually result in\\n(transdermal, injections, etc.), the unique risks of oral estradiol aren't particularly relevant in\\npractice.\\n\\nSpironolactone:\\n\\nThe main reason I recommend against spironolactone is because spiro is a very weak antiandrogen. There are\\njust\\nbetter options out there.\\n\\nHowever, it's very safe, but common side effects include increased thirst, salt cravings and frequent\\nurination\\ndue to it being a diuretic (makes your body get rid of water faster).\\n\\nSpiro is also known to reduce blood pressure, which can make it hard for some people to attain erections.\\n\\nIdeally you should get U&E (urea and electrolytes) tested for (see if you're dehydrated, basically) if you\\nare\\non spiro.\", metadata={'source': 'https://diyhrt.wiki/transfem'}),\n",
       "  Document(page_content='In addition to assessing the positive changes associated with sex steroid hormone therapy, the HCP should regularly assess whether the treat- ment has caused any adverse effects (see Appendix C—Table 2). Examples of adverse signs and symptoms include androgenic acne or bothersome sexual dysfunction (Braun et al., 2021; Kerckhof et al., 2019). GAHT also has the potential to adversely influence several laboratory tests. For example, spironolactone may cause hyperkalemia, although it is an uncommon and transient phe- nomenon (Millington et al., 2019). Testosterone increases the red blood cell count (hematocrit), which may occasionally cause erythrocytosis (Antun et al., 2020) (see Statement 12.17) (Hembree et al., 2017). Both estrogen and tes- tosterone can alter lipid parameters, such as high-density protein lipoprotein (HDL) choles- terol and triglycerides (Maraka et al., 2017). See Appendix C—Tables 3 and 4.\\n\\nS118\\n\\nE. COLEMAN ET AL.', metadata={'source': 'data/sources/files/Standards of Care for the Health of Transgender and Gender Diverse People Version 8.pdf'})]}"
      ]
     },
     "execution_count": 7,
     "metadata": {},
     "output_type": "execute_result"
    }
   ],
   "source": [
    "from src.chatbot.gptg_model import GPTgChatbot\n",
    "\n",
    "qa_bot = GPTgChatbot()\n",
    "qa_bot.query(\"What are the common side effects of Spironolactone?\")"
   ]
  },
  {
   "cell_type": "code",
   "execution_count": 8,
   "id": "ce3ebd61",
   "metadata": {},
   "outputs": [
    {
     "name": "stdout",
     "output_type": "stream",
     "text": [
      "Question:   What are the other options for anti-androgens for a trans woman doing feminizing hormone therapy?\n",
      "Response:    The other options for anti-androgens for a trans woman doing feminizing hormone therapy are cyproterone acetate, spironolactone, GnRH agonists, and bicalutamide.\n",
      "Source Documents:   [Document(page_content='Antiandrogens - other approaches\\n\\nAntiandrogens can also be used alone to bring reduced masculinization and minimal breast development, or in those patients who wish to first explore reduced testosterone levels alone, or in those with contraindications to estrogen therapy. In the absence of estrogen replacement, some patients may have unpleasant symptoms of hot flashes and low mood or energy. Long term full androgen blockade without hormone replacement in men who have undergone treatment for prostate cancer results in bone loss, and this effect would also be expected to occur in transgender individuals.[10] In addition to titrating dosing to both clinical effect and testosterone levels as guided by patient goals, monitoring hormone levels to insure suppressed gonadotropins (luteinizing hormone [LH] and follicle stimulating hormone [FSH]) levels may serve as a surrogate marker to indicate adequate sex hormone levels for maintaining bone density in such patients (Grading: T O W).[11]', metadata={'source': 'https://transcare.ucsf.edu/guidelines/feminizing-hormone-therapy'}), Document(page_content='The two most commonly used antiandrogens, cyproterone acetate and spironolactone, are oral. Estrogen is sometimes prescribed for prostate cancer patients to lower serum testosterone levels via negative feedback at the hypothalamus and pituitary gland. Estrogens and antiandrogens may not fully suppress testosterone levels into the female or castrate range, and oral estrogens increase the risk of venous thromboembolism. Although not commonly used due to cost, gonad- otropin releasing hormone (GnRH) agonists are a very effective method for suppressing the pro- duction of sex steroids and fertility (Hembree et al., 2017). When selecting a medication, we advise using those which have been studied in multiple transgender populations (i.e., estrogen, cyproterone acetate, GnRH agonists) rather than medications with little to no peer-reviewed sci- entific studies (i.e., bicalutamide, rectal proges- terone, etc.) (Angus et al., 2021; Butler et al., 2017; Efstathiou et al., 2019; Tosun et al., 2019). Many eunuch individuals pursue hormone replacement therapy following castration as they do not desire the complete suppression of hor- mone levels and consequent problems, such as the increased risk of osteoporosis. The two main options for replacement of sex steroids are tes- tosterone and estrogen that may be used in full or partial replacement doses. The majority elect testosterone as they present as male and are not interested in feminization. A minority elect estro- gen at a high enough dose to prevent osteopo- rosis, but low enough avoid most feminization. They may identify as nonbinary, agender, or other (Johnson et al., 2007; Johnson & Wassersug, 2016). Although studies on hormone replacement therapy in eunuchs are lacking, findings from', metadata={'source': 'data/sources/files/Standards of Care for the Health of Transgender and Gender Diverse People Version 8.pdf'}), Document(page_content='Transgender women may prioritize hormone therapy over other care; such symptoms may result in decreased ART adherence if it is perceived that these symptoms are due to ART. Consider monitoring estradiol levels and/or making empiric dosing or regimen adjustments based on development of or changes in estrogenic symptoms when initiating or changing anti-retroviral therapy.\\n\\nThere are limited data on the interactions between ART and masculinizing hormones or other drugs used as anti-androgens for feminization. Currently, there are no documented interactions between ART and either androgens (e.g., testosterone) or anti-androgens (e.g., spironolactone).\\n\\nHormone therapy and management of HIV-related opportunistic infections and prophylaxis', metadata={'source': 'https://transcare.ucsf.edu/guidelines/hiv'}), Document(page_content='Progestogens: There have been no well-designed studies of the role of progestogens in feminizing hormone regimens. Many transgender women and providers alike report an anecdotal improved breast and/or areolar development, mood, or libido with the use of progestogens.[17,18] There is no evidence to suggest that using progestogens in the setting of transgender care are harmful. In reality some patients may respond favorably to progestogens while others may find negative effects on mood. While progestogens have some anti-androgen effect through central blockade of gonadotropins, there is also a theoretical risk of a direct androgenizing effect of progestogens. This class includes micronized bioidentical progesterone (Prometrium) as well as a number of synthetic progestins. The most commonly used synthetic progestin in the context of transgender care is the oral medroxyprogesterone acetate (Provera).', metadata={'source': 'https://transcare.ucsf.edu/guidelines/feminizing-hormone-therapy'})]\n"
     ]
    },
    {
     "data": {
      "text/plain": [
       "{'query': 'What are the other options for anti-androgens for a trans woman doing feminizing hormone therapy?',\n",
       " 'result': ' The other options for anti-androgens for a trans woman doing feminizing hormone therapy are cyproterone acetate, spironolactone, GnRH agonists, and bicalutamide.',\n",
       " 'source_documents': [Document(page_content='Antiandrogens - other approaches\\n\\nAntiandrogens can also be used alone to bring reduced masculinization and minimal breast development, or in those patients who wish to first explore reduced testosterone levels alone, or in those with contraindications to estrogen therapy. In the absence of estrogen replacement, some patients may have unpleasant symptoms of hot flashes and low mood or energy. Long term full androgen blockade without hormone replacement in men who have undergone treatment for prostate cancer results in bone loss, and this effect would also be expected to occur in transgender individuals.[10] In addition to titrating dosing to both clinical effect and testosterone levels as guided by patient goals, monitoring hormone levels to insure suppressed gonadotropins (luteinizing hormone [LH] and follicle stimulating hormone [FSH]) levels may serve as a surrogate marker to indicate adequate sex hormone levels for maintaining bone density in such patients (Grading: T O W).[11]', metadata={'source': 'https://transcare.ucsf.edu/guidelines/feminizing-hormone-therapy'}),\n",
       "  Document(page_content='The two most commonly used antiandrogens, cyproterone acetate and spironolactone, are oral. Estrogen is sometimes prescribed for prostate cancer patients to lower serum testosterone levels via negative feedback at the hypothalamus and pituitary gland. Estrogens and antiandrogens may not fully suppress testosterone levels into the female or castrate range, and oral estrogens increase the risk of venous thromboembolism. Although not commonly used due to cost, gonad- otropin releasing hormone (GnRH) agonists are a very effective method for suppressing the pro- duction of sex steroids and fertility (Hembree et al., 2017). When selecting a medication, we advise using those which have been studied in multiple transgender populations (i.e., estrogen, cyproterone acetate, GnRH agonists) rather than medications with little to no peer-reviewed sci- entific studies (i.e., bicalutamide, rectal proges- terone, etc.) (Angus et al., 2021; Butler et al., 2017; Efstathiou et al., 2019; Tosun et al., 2019). Many eunuch individuals pursue hormone replacement therapy following castration as they do not desire the complete suppression of hor- mone levels and consequent problems, such as the increased risk of osteoporosis. The two main options for replacement of sex steroids are tes- tosterone and estrogen that may be used in full or partial replacement doses. The majority elect testosterone as they present as male and are not interested in feminization. A minority elect estro- gen at a high enough dose to prevent osteopo- rosis, but low enough avoid most feminization. They may identify as nonbinary, agender, or other (Johnson et al., 2007; Johnson & Wassersug, 2016). Although studies on hormone replacement therapy in eunuchs are lacking, findings from', metadata={'source': 'data/sources/files/Standards of Care for the Health of Transgender and Gender Diverse People Version 8.pdf'}),\n",
       "  Document(page_content='Transgender women may prioritize hormone therapy over other care; such symptoms may result in decreased ART adherence if it is perceived that these symptoms are due to ART. Consider monitoring estradiol levels and/or making empiric dosing or regimen adjustments based on development of or changes in estrogenic symptoms when initiating or changing anti-retroviral therapy.\\n\\nThere are limited data on the interactions between ART and masculinizing hormones or other drugs used as anti-androgens for feminization. Currently, there are no documented interactions between ART and either androgens (e.g., testosterone) or anti-androgens (e.g., spironolactone).\\n\\nHormone therapy and management of HIV-related opportunistic infections and prophylaxis', metadata={'source': 'https://transcare.ucsf.edu/guidelines/hiv'}),\n",
       "  Document(page_content='Progestogens: There have been no well-designed studies of the role of progestogens in feminizing hormone regimens. Many transgender women and providers alike report an anecdotal improved breast and/or areolar development, mood, or libido with the use of progestogens.[17,18] There is no evidence to suggest that using progestogens in the setting of transgender care are harmful. In reality some patients may respond favorably to progestogens while others may find negative effects on mood. While progestogens have some anti-androgen effect through central blockade of gonadotropins, there is also a theoretical risk of a direct androgenizing effect of progestogens. This class includes micronized bioidentical progesterone (Prometrium) as well as a number of synthetic progestins. The most commonly used synthetic progestin in the context of transgender care is the oral medroxyprogesterone acetate (Provera).', metadata={'source': 'https://transcare.ucsf.edu/guidelines/feminizing-hormone-therapy'})]}"
      ]
     },
     "execution_count": 8,
     "metadata": {},
     "output_type": "execute_result"
    }
   ],
   "source": [
    "qa_bot.query(\"What are the other options for anti-androgens for a trans woman doing feminizing hormone therapy?\")"
   ]
  },
  {
   "cell_type": "code",
   "execution_count": 9,
   "id": "b96af692",
   "metadata": {},
   "outputs": [
    {
     "name": "stdout",
     "output_type": "stream",
     "text": [
      "Question:   What happens if I stop taking estrogen and keep taing those medications?\n",
      "Response:    If you stop taking estrogen and keep taking antiandrogens, you may experience the return of male secondary sexual characteristics, such as virilization. It is also possible that you may experience an increase in symptoms related to a pituitary adenoma, such as galactorrhea. It is recommended that you speak with your doctor to discuss the pros and cons of stopping hormone therapy.\n",
      "Source Documents:   [Document(page_content='Some people are able to maintain an estradiol monotherapy regimen using transdermal estrogens, but this\\nis less consistent and more difficult to achieve. Transdermal estradiol monotherapy is not recommended due to these reasons.\\n\\nAttempting estradiol monotherapy using non-injectable or transdermal forms of estradiol such as pills carry an elevated risk of\\nblood clotting, and we recommend you do not try this.\\n\\nThe vast majority of people on a decent estradiol injection monotherapy regimen (only taking estrogen, no\\nantiandrogen) are able to suppress testosterone levels adequately without needing to take antiandrogens.\\n\\nSide Effects/risks:\\n\\n‚ö†Ô∏è Important Note:', metadata={'source': 'https://diyhrt.wiki/transfem'}), Document(page_content='No direct study of the risk of perioperative venous thromboembolism in users of bioidentical estrogens has been conducted. Guidelines from two British professional organizations make a weak recommendation to discontinue menopausal hormone therapy in the perioperative period, however both acknowledge that this may not be needed in the setting of proper prophylaxis (i.e. heparin or compression devices).[58] Studies of perioperative ethinyl estradiol in users of hormonal contraception have mixed findings and are wrought with confounding and methodological limitations.[59] Many surgeons insist that transgender women discontinue estrogen for several weeks before and after any gender affirming procedure.[60,61] These recommendations may appear as benign to the surgeon; however to the transgender woman undergoing a life and body-altering procedure simultaneous with gonadectomy, sudden and prolonged complete withdrawal of estrogens can have a profound impact. Postoperative depression is a nontrivial concern and may have some basis in the drastic hormone shifts, including cessation of estrogens, experienced in the perioperative period. There is no evidence to suggest that transgender women who lack specific risk factors (smoking, personal or family history, excessive doses or use of synthetic estrogens) must cease estrogen therapy before and after surgical procedures, in particular with appropriate use of prophylaxis and an informed consent discussion of the pros and cons of discontinuing hormone therapy during this time. Possible alternatives include using a lower dose of estrogen, and/or changing to a transdermal route if not already in use.[62]', metadata={'source': 'https://transcare.ucsf.edu/guidelines/feminizing-hormone-therapy'}), Document(page_content='Side effects of estrogens may include migraines, mood swings, hot flashes, and weight gain.\\n\\nAntiandrogens - common approaches\\n\\nSuppression of testosterone production and blocking of its effects contributes to the suppression / minimization of male secondary sexual characteristics. Unfortunately, many of these characteristics are permanent upon completion of natal puberty and are irreversible. Androgen blockers allow the use of lower estradiol dosing, in contrast to the supraphysiologic estrogen levels (and associated risks) previously used to affect pituitary gonadotropin suppression.[6]', metadata={'source': 'https://transcare.ucsf.edu/guidelines/feminizing-hormone-therapy'}), Document(page_content='Since the mean age of menopause in the U.S. is 49,[41] it is reasonable in transgender women who have undergone gonadectomy to consider stopping hormone therapy around age 50. Expected effects of this may be similar to non-transgender women experiencing menopause. Transgender women who retain their gonads but withdraw hormone therapy may experience return of virilization. A discussion of the pros and cons of this approach, with individualized and shared decision making is recommended.\\n\\nPituitary adenoma (prolactinoma) and galactorrhea:', metadata={'source': 'https://transcare.ucsf.edu/guidelines/feminizing-hormone-therapy'})]\n"
     ]
    },
    {
     "data": {
      "text/plain": [
       "{'query': 'What happens if I stop taking estrogen and keep taing those medications?',\n",
       " 'result': ' If you stop taking estrogen and keep taking antiandrogens, you may experience the return of male secondary sexual characteristics, such as virilization. It is also possible that you may experience an increase in symptoms related to a pituitary adenoma, such as galactorrhea. It is recommended that you speak with your doctor to discuss the pros and cons of stopping hormone therapy.',\n",
       " 'source_documents': [Document(page_content='Some people are able to maintain an estradiol monotherapy regimen using transdermal estrogens, but this\\nis less consistent and more difficult to achieve. Transdermal estradiol monotherapy is not recommended due to these reasons.\\n\\nAttempting estradiol monotherapy using non-injectable or transdermal forms of estradiol such as pills carry an elevated risk of\\nblood clotting, and we recommend you do not try this.\\n\\nThe vast majority of people on a decent estradiol injection monotherapy regimen (only taking estrogen, no\\nantiandrogen) are able to suppress testosterone levels adequately without needing to take antiandrogens.\\n\\nSide Effects/risks:\\n\\n‚ö†Ô∏è Important Note:', metadata={'source': 'https://diyhrt.wiki/transfem'}),\n",
       "  Document(page_content='No direct study of the risk of perioperative venous thromboembolism in users of bioidentical estrogens has been conducted. Guidelines from two British professional organizations make a weak recommendation to discontinue menopausal hormone therapy in the perioperative period, however both acknowledge that this may not be needed in the setting of proper prophylaxis (i.e. heparin or compression devices).[58] Studies of perioperative ethinyl estradiol in users of hormonal contraception have mixed findings and are wrought with confounding and methodological limitations.[59] Many surgeons insist that transgender women discontinue estrogen for several weeks before and after any gender affirming procedure.[60,61] These recommendations may appear as benign to the surgeon; however to the transgender woman undergoing a life and body-altering procedure simultaneous with gonadectomy, sudden and prolonged complete withdrawal of estrogens can have a profound impact. Postoperative depression is a nontrivial concern and may have some basis in the drastic hormone shifts, including cessation of estrogens, experienced in the perioperative period. There is no evidence to suggest that transgender women who lack specific risk factors (smoking, personal or family history, excessive doses or use of synthetic estrogens) must cease estrogen therapy before and after surgical procedures, in particular with appropriate use of prophylaxis and an informed consent discussion of the pros and cons of discontinuing hormone therapy during this time. Possible alternatives include using a lower dose of estrogen, and/or changing to a transdermal route if not already in use.[62]', metadata={'source': 'https://transcare.ucsf.edu/guidelines/feminizing-hormone-therapy'}),\n",
       "  Document(page_content='Side effects of estrogens may include migraines, mood swings, hot flashes, and weight gain.\\n\\nAntiandrogens - common approaches\\n\\nSuppression of testosterone production and blocking of its effects contributes to the suppression / minimization of male secondary sexual characteristics. Unfortunately, many of these characteristics are permanent upon completion of natal puberty and are irreversible. Androgen blockers allow the use of lower estradiol dosing, in contrast to the supraphysiologic estrogen levels (and associated risks) previously used to affect pituitary gonadotropin suppression.[6]', metadata={'source': 'https://transcare.ucsf.edu/guidelines/feminizing-hormone-therapy'}),\n",
       "  Document(page_content='Since the mean age of menopause in the U.S. is 49,[41] it is reasonable in transgender women who have undergone gonadectomy to consider stopping hormone therapy around age 50. Expected effects of this may be similar to non-transgender women experiencing menopause. Transgender women who retain their gonads but withdraw hormone therapy may experience return of virilization. A discussion of the pros and cons of this approach, with individualized and shared decision making is recommended.\\n\\nPituitary adenoma (prolactinoma) and galactorrhea:', metadata={'source': 'https://transcare.ucsf.edu/guidelines/feminizing-hormone-therapy'})]}"
      ]
     },
     "execution_count": 9,
     "metadata": {},
     "output_type": "execute_result"
    }
   ],
   "source": [
    "qa_bot.query(\"What happens if I stop taking estrogen and keep taing those medications?\")"
   ]
  }
 ],
 "metadata": {
  "kernelspec": {
   "display_name": "Python 3 (ipykernel)",
   "language": "python",
   "name": "python3"
  },
  "language_info": {
   "codemirror_mode": {
    "name": "ipython",
    "version": 3
   },
   "file_extension": ".py",
   "mimetype": "text/x-python",
   "name": "python",
   "nbconvert_exporter": "python",
   "pygments_lexer": "ipython3",
   "version": "3.9.5"
  },
  "vscode": {
   "interpreter": {
    "hash": "b1677b440931f40d89ef8be7bf03acb108ce003de0ac9b18e8d43753ea2e7103"
   }
  }
 },
 "nbformat": 4,
 "nbformat_minor": 5
}
